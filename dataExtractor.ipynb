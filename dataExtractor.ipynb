{
 "cells": [
  {
   "cell_type": "code",
   "execution_count": null,
   "metadata": {
    "collapsed": true
   },
   "outputs": [],
   "source": [
    "#Author: Shweta Gupta\n",
    "#Peer review: The rest"
   ]
  },
  {
   "cell_type": "code",
   "execution_count": 9,
   "metadata": {
    "collapsed": false
   },
   "outputs": [
    {
     "name": "stdout",
     "output_type": "stream",
     "text": [
      "./Simplex/CompSci.csv\n",
      "1318\n",
      "0 50\n",
      "51 101\n",
      "102 152\n",
      "153 203\n",
      "204 254\n",
      "255 305\n",
      "306 356\n",
      "357 407\n",
      "408 458\n",
      "459 509\n",
      "510 560\n",
      "561 611\n",
      "612 662\n",
      "663 713\n",
      "714 764\n",
      "765 815\n",
      "816 866\n",
      "867 917\n",
      "918 968\n",
      "969 1019\n",
      "1020 1070\n",
      "1071 1121\n",
      "1122 1172\n",
      "1173 1223\n",
      "1224 1274\n",
      "1275 1318\n",
      "./Simplex/literature.csv\n",
      "1929\n",
      "0 50\n",
      "51 101\n",
      "102 152\n",
      "153 203\n",
      "204 254\n",
      "255 305\n",
      "306 356\n",
      "357 407\n",
      "408 458\n",
      "459 509\n",
      "510 560\n",
      "561 611\n",
      "612 662\n",
      "663 713\n",
      "714 764\n",
      "765 815\n",
      "816 866\n",
      "867 917\n",
      "918 968\n",
      "969 1019\n",
      "1020 1070\n",
      "1071 1121\n",
      "1122 1172\n",
      "1173 1223\n",
      "1224 1274\n",
      "1275 1325\n",
      "1326 1376\n",
      "1377 1427\n",
      "1428 1478\n",
      "1479 1529\n",
      "1530 1580\n",
      "1581 1631\n",
      "1632 1682\n",
      "1683 1733\n",
      "1734 1784\n",
      "1785 1835\n",
      "1836 1886\n",
      "1887 1929\n",
      "./Simplex/mathematics.csv\n",
      "1187\n",
      "0 50\n",
      "51 101\n",
      "102 152\n",
      "153 203\n",
      "204 254\n",
      "255 305\n",
      "306 356\n",
      "357 407\n",
      "408 458\n",
      "459 509\n",
      "510 560\n",
      "561 611\n",
      "612 662\n",
      "663 713\n",
      "714 764\n",
      "765 815\n",
      "816 866\n",
      "867 917\n",
      "918 968\n",
      "969 1019\n",
      "1020 1070\n",
      "1071 1121\n",
      "1122 1172\n",
      "1173 1187\n",
      "Done\n"
     ]
    },
    {
     "data": {
      "text/plain": [
       "8"
      ]
     },
     "execution_count": 9,
     "metadata": {},
     "output_type": "execute_result"
    }
   ],
   "source": [
    "import urllib.request\n",
    "import csv\n",
    "from bs4 import BeautifulSoup\n",
    "import os\n",
    "import itertools\n",
    "\n",
    "outputFile = open(\"./Simplex/train.xml\", 'a', encoding=\"utf8\")\n",
    "outputFile.write(\"<pages>\")\n",
    "pageIds = \"\"\n",
    "counter = 0\n",
    "\n",
    "def getData(ids):\n",
    "    url=\"https://en.wikipedia.org/w/api.php?action=query&prop=revisions&rvprop=content&format=xml&pageids=\"+ids\n",
    "    req = urllib.request.urlopen(url)\n",
    "    if req.getcode() == 200:\n",
    "        soup = BeautifulSoup(req.read(), 'html.parser')\n",
    "        s = soup.find_all('page')\n",
    "        for si in s:\n",
    "            outputFile.write(str(si))\n",
    "\n",
    "def batchTrain(file):\n",
    "    print(file)\n",
    "    csvReader = csv.reader(open(file,'r'))\n",
    "    totalRecords = sum(1 for row in csv.reader(open(file,'r',encoding=\"UTF-8\")) )\n",
    "    print (totalRecords)\n",
    "    start = 0\n",
    "    end = start + 50\n",
    "   \n",
    "    while (start <= totalRecords):\n",
    "        pageIds = \"\"\n",
    "        for row in itertools.islice(csv.reader(open(file,'r',encoding=\"UTF-8\")),start,end):\n",
    "            pageIds = pageIds + row[2] + \"|\"\n",
    "        \n",
    "        getData(pageIds)\n",
    "        start = end + 1\n",
    "        end = start + 50\n",
    "        if end> totalRecords:\n",
    "            end=totalRecords\n",
    "    \n",
    "\n",
    "for path, subdirs, files in os.walk('./Simplex/'):\n",
    "    for file in files:\n",
    "        if file.endswith('.csv'):\n",
    "            batchTrain(path + file)\n",
    "\n",
    "print (\"Done\")\n",
    "outputFile.write(\"</pages>\")\n",
    "\n",
    "\n"
   ]
  },
  {
   "cell_type": "code",
   "execution_count": 17,
   "metadata": {
    "collapsed": false
   },
   "outputs": [
    {
     "name": "stdout",
     "output_type": "stream",
     "text": [
      "./Simplex1/ ['test'] ['Arts.csv', 'Arts.xml', 'Geography.csv', 'Geography.xml', 'Health.csv', 'Health.xml', 'History.csv', 'History.xml', 'Literature.csv', 'Literature.xml', 'Mathematics.csv', 'Mathematics.xml', 'Music.csv', 'Music.xml', 'Nature.csv', 'Nature.xml', 'Religion.csv', 'Religion.xml', 'Technology.csv', 'Technology.xml']\n"
     ]
    }
   ],
   "source": [
    "for path, dirs, files in os.walk(\"./Simplex1/\"):\n",
    "    print (path, dirs, files)\n",
    "    del dirs[:]"
   ]
  },
  {
   "cell_type": "code",
   "execution_count": null,
   "metadata": {
    "collapsed": true
   },
   "outputs": [],
   "source": []
  }
 ],
 "metadata": {
  "anaconda-cloud": {},
  "kernelspec": {
   "display_name": "Python [conda env:py35]",
   "language": "python",
   "name": "conda-env-py35-py"
  },
  "language_info": {
   "codemirror_mode": {
    "name": "ipython",
    "version": 3
   },
   "file_extension": ".py",
   "mimetype": "text/x-python",
   "name": "python",
   "nbconvert_exporter": "python",
   "pygments_lexer": "ipython3",
   "version": "3.5.2"
  }
 },
 "nbformat": 4,
 "nbformat_minor": 1
}
